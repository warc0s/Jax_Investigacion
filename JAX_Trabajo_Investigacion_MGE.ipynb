{
  "nbformat": 4,
  "nbformat_minor": 0,
  "metadata": {
    "colab": {
      "provenance": []
    },
    "kernelspec": {
      "name": "python3",
      "display_name": "Python 3"
    },
    "language_info": {
      "name": "python"
    }
  },
  "cells": [
    {
      "cell_type": "markdown",
      "source": [
        "# Trabajo Investigación JAX\n",
        "## Por Marcos García Estévez\n",
        "\n",
        "Fuentes usadas:\n",
        "- https://es.statisticseasily.com/glosario/what-is-jax-high-performance-computing/\n",
        "- https://opensource.googleblog.com/2024/12/a-robust-open-ecosystem-accelerating-ai-infrastructure.html\n",
        "- https://github.com/jax-ml/jax-ai-stack\n",
        "- https://github.com/n2cholas/awesome-jax"
      ],
      "metadata": {
        "id": "LKyMQ_OjPikx"
      }
    },
    {
      "cell_type": "markdown",
      "source": [
        "## 1. **Qué es JAX y cuáles son sus principales características.**"
      ],
      "metadata": {
        "id": "ajuIaaSbv6ve"
      }
    },
    {
      "cell_type": "markdown",
      "source": [
        "JAX es una biblioteca de código abierto desarrollada por Google diseñada para computación numérica de alto rendimiento y aplicaciones de aprendizaje automático. Combina la simplicidad de la API de NumPy con capacidades avanzadas como la paralelización o aceleración mediante GPU/TPU. Sus otras características incluyen:\n",
        "\n",
        "- Diferenciación automática: Permite calcular gradientes de funciones de manera eficiente, esencial para optimización y entrenamiento de modelos.\n",
        "\n",
        "- Compilación JIT (Just-In-Time): Optimiza el rendimiento al compilar código Python en instrucciones de máquina aceleradas mediante XLA.\n",
        "\n",
        "- Compatibilidad con NumPy: Facilita la transición para usuarios familiarizados con NumPy, manteniendo una sintaxis similar.\n",
        "\n",
        "Programación funcional: Fomenta un enfoque inmutable y libre de efectos secundarios, mejorando la previsibilidad del código.\n",
        "\n",
        "Aceleración en hardware: Soporte nativo para GPU, TPU y nuevos chips como AWS Trainium."
      ],
      "metadata": {
        "id": "8gv6MEOShcN_"
      }
    },
    {
      "cell_type": "markdown",
      "source": [
        "## 2. **Comparación de JAX con TensorFlow y PyTorch.**\n"
      ],
      "metadata": {
        "id": "eMfz9n-3v_nF"
      }
    },
    {
      "cell_type": "markdown",
      "source": [
        "| Característica      | JAX                                         | TensorFlow                                    | PyTorch                                       |\n",
        "|---------------------|---------------------------------------------|---------------------------------------------|---------------------------------------------|\n",
        "| Paradigma           | Programación funcional                     | Estático/dinámico (Eager Mode)              | Dinámico (prioriza flexibilidad)             |\n",
        "| Rendimiento         | Optimizado con XLA (alta eficiencia en TPU/GPU) | Bueno para producción, menos eficiente en investigación | Menor optimización que JAX pero excelente para prototipado |\n",
        "| Autodiferenciación  | Gradientes de orden superior (Hessianas)    | GradientTape (solo primer orden)            | Autograd (flexible pero menos eficiente)     |\n",
        "| Ecosistema          | En crecimiento (Flax, Haiku)               | Maduro (Keras, TFX)                         | Amplio (TorchVision, Lightning)             |\n",
        "| Casos de uso        | Investigación, cómputo científico          | Producción empresarial                      | Academia y prototipado rápido               |\n",
        "\n",
        "### **Ventajas de JAX**:\n",
        "1. Ideal para modelos matemáticamente intensivos (ej: física diferenciable, optimización avanzada).\n",
        "2. Escalabilidad en entornos distribuidos gracias a `pmap` y `vmap`.\n",
        "\n",
        "### **Desventajas:**\n",
        "1. Curva de aprendizaje más pronunciada por su enfoque funcional.\n",
        "2. Menor soporte para despliegue en producción comparado con TensorFlow.\n"
      ],
      "metadata": {
        "id": "XSr2C7XcwCre"
      }
    },
    {
      "cell_type": "markdown",
      "source": [
        "## 3. **Ecosistema: librerías implementadas sobre JAX y otras herramientas que se integran bien con esta tecnología.**"
      ],
      "metadata": {
        "id": "ATnHhVVUwDX6"
      }
    },
    {
      "cell_type": "markdown",
      "source": [
        "## Librerías de redes neuronales:\n",
        "\n",
        "- **Flax**: Ofrece una API de alto nivel para la construcción de modelos neuronales en JAX, facilitando la definición de redes complejas con módulos reutilizables y una sintaxis clara.\n",
        "\n",
        "- **Haiku**: Desarrollada por DeepMind, proporciona una interfaz simple y potente para crear modelos en JAX, permitiendo una fácil transición desde otros frameworks como TensorFlow o PyTorch.\n",
        "\n",
        "- **Optax**: Una biblioteca integral para la optimización en JAX, que incluye una amplia gama de optimizadores, funciones de pérdida y herramientas para el procesamiento de gradientes.\n",
        "\n",
        "## Herramientas científicas:\n",
        "\n",
        "- **JAX-MD**: Facilita la realización de simulaciones de dinámica molecular totalmente diferenciables, permitiendo estudios avanzados en física y química computacional.\n",
        "\n",
        "- **NumPyro**: Ofrece un marco de programación probabilística que combina la simplicidad de NumPy con la potencia de JAX para modelado estadístico y aprendizaje automático bayesiano.\n",
        "\n",
        "## Integraciones externas:\n",
        "\n",
        "- **TensorFlow Datasets**: Proporciona una colección de conjuntos de datos listos para usar con JAX, simplificando el proceso de carga y preprocesamiento de datos para entrenamiento de modelos.\n",
        "\n",
        "- **HuggingFace Transformers**: Permite el uso de modelos de lenguaje preentrenados en Flax, facilitando la implementación de aplicaciones de procesamiento de lenguaje natural de última generación.\n",
        "\n",
        "## Stack empresarial:\n",
        "\n",
        "Google promueve el **JAX AI Stack**, que incluye Flax, Optax y herramientas como Orbax para la persistencia de modelos, ofreciendo una solución completa para el desarrollo y despliegue de aplicaciones de inteligencia artificial escalables y eficientes.\n"
      ],
      "metadata": {
        "id": "YN7YbNxdwZq8"
      }
    },
    {
      "cell_type": "markdown",
      "source": [
        "## 4. **Ejemplo práctico.**"
      ],
      "metadata": {
        "id": "kH9CzpHhwQ8J"
      }
    },
    {
      "cell_type": "markdown",
      "source": [
        "Para este ejemplo práctico voy a utilizar el dataset \"Bank Marketing\" de UCI (disponible en scikit-learn via fetch_openml), que es un problema de clasificación binaria para predecir si un cliente suscribirá un depósito bancario.\n",
        "\n",
        "Implementaré el mismo entrenamiento usando: tensorflow, pytorch y JAX. De esta forma, podremos comparar lineas de codigos y tiempo de entrenamiento para cada uno. Concretamente, una capa oculta de 64 neuronas, y una neurona de salida.\n",
        "\n",
        "Para este primer paso, realizaremos el preprocesamiento."
      ],
      "metadata": {
        "id": "OVyoyCP_wiA1"
      }
    },
    {
      "cell_type": "code",
      "source": [
        "import time\n",
        "import joblib\n",
        "import numpy as np\n",
        "import pandas as pd\n",
        "from sklearn.model_selection import train_test_split\n",
        "from sklearn.preprocessing import StandardScaler, OneHotEncoder\n",
        "from sklearn.compose import ColumnTransformer\n",
        "from sklearn.pipeline import Pipeline\n",
        "from sklearn.datasets import fetch_openml\n",
        "\n",
        "# Cargar dataset\n",
        "bank = fetch_openml(name=\"bank-marketing\", version=1, as_frame=True)\n",
        "X = bank.data\n",
        "y = bank.target.cat.codes  # Convertir a 0/1\n",
        "\n",
        "# Identificar columnas categóricas y numéricas\n",
        "categorical_features = X.select_dtypes(include=['category', 'object']).columns.tolist()\n",
        "numerical_features = X.select_dtypes(include=['int64', 'float64']).columns.tolist()\n",
        "\n",
        "# Preprocesamiento\n",
        "preprocessor = ColumnTransformer(\n",
        "    transformers=[\n",
        "        ('num', StandardScaler(), numerical_features),\n",
        "        ('cat', OneHotEncoder(handle_unknown=\"ignore\"), categorical_features)\n",
        "    ])\n",
        "\n",
        "X_processed = preprocessor.fit_transform(X)\n",
        "\n",
        "# Guardar preprocesador y datos\n",
        "joblib.dump(preprocessor, \"preprocessor.joblib\")\n",
        "X_train, X_test, y_train, y_test = train_test_split(X_processed, y, test_size=0.2, random_state=42)\n",
        "np.savez(\"train_test_data.npz\", X_train=X_train, X_test=X_test, y_train=y_train, y_test=y_test)"
      ],
      "metadata": {
        "id": "Euc5g-ZclGY_"
      },
      "execution_count": 1,
      "outputs": []
    },
    {
      "cell_type": "markdown",
      "source": [
        "## 4.1 **Tensorflow**"
      ],
      "metadata": {
        "id": "l2XbZ5h0lKq3"
      }
    },
    {
      "cell_type": "code",
      "source": [
        "import tensorflow as tf\n",
        "import time\n",
        "import joblib\n",
        "import numpy as np\n",
        "\n",
        "data = np.load(\"train_test_data.npz\")\n",
        "X_train = data[\"X_train\"].astype(np.float32)\n",
        "y_train = data[\"y_train\"].astype(np.float32)\n",
        "\n",
        "model = tf.keras.Sequential([\n",
        "    tf.keras.layers.Dense(64, activation='relu', input_shape=(X_train.shape[1],)),\n",
        "    tf.keras.layers.Dense(1, activation='sigmoid')\n",
        "])\n",
        "\n",
        "model.compile(optimizer='adam', loss='binary_crossentropy')\n",
        "\n",
        "start_time = time.time()\n",
        "model.fit(X_train, y_train, epochs=100, batch_size=32, verbose=0)\n",
        "training_time = time.time() - start_time\n",
        "\n",
        "model.save(\"tf_model.keras\")\n",
        "joblib.dump(training_time, \"tf_time.joblib\")"
      ],
      "metadata": {
        "colab": {
          "base_uri": "https://localhost:8080/"
        },
        "id": "Is_pXGWElM-J",
        "outputId": "bf207181-673c-4fe0-85ea-1da3de1d0c12"
      },
      "execution_count": 2,
      "outputs": [
        {
          "output_type": "stream",
          "name": "stderr",
          "text": [
            "/usr/local/lib/python3.11/dist-packages/keras/src/layers/core/dense.py:87: UserWarning: Do not pass an `input_shape`/`input_dim` argument to a layer. When using Sequential models, prefer using an `Input(shape)` object as the first layer in the model instead.\n",
            "  super().__init__(activity_regularizer=activity_regularizer, **kwargs)\n"
          ]
        },
        {
          "output_type": "execute_result",
          "data": {
            "text/plain": [
              "['tf_time.joblib']"
            ]
          },
          "metadata": {},
          "execution_count": 2
        }
      ]
    },
    {
      "cell_type": "markdown",
      "source": [
        "Usando CPU, TensorFlow ha tardado en realizar el entrenamiento **3 minutos 40 segundos**.\n"
      ],
      "metadata": {
        "id": "ESYuzuKBlYqU"
      }
    },
    {
      "cell_type": "markdown",
      "source": [
        "## 4.2 **Pytorch**"
      ],
      "metadata": {
        "id": "xz1IJoIVlNNE"
      }
    },
    {
      "cell_type": "code",
      "source": [
        "import torch\n",
        "import torch.nn as nn\n",
        "import torch.optim as optim\n",
        "import time\n",
        "import joblib\n",
        "import numpy as np\n",
        "\n",
        "data = np.load(\"train_test_data.npz\")\n",
        "X_train = torch.tensor(data[\"X_train\"].astype(np.float32))\n",
        "y_train = torch.tensor(data[\"y_train\"].astype(np.float32)).unsqueeze(1)\n",
        "\n",
        "class Net(nn.Module):\n",
        "    def __init__(self, input_size):\n",
        "        super().__init__()\n",
        "        self.fc1 = nn.Linear(input_size, 64)\n",
        "        self.fc2 = nn.Linear(64, 1)\n",
        "\n",
        "    def forward(self, x):\n",
        "        x = torch.relu(self.fc1(x))\n",
        "        return torch.sigmoid(self.fc2(x))\n",
        "\n",
        "model = Net(X_train.shape[1])\n",
        "criterion = nn.BCELoss()\n",
        "optimizer = optim.Adam(model.parameters(), lr=0.001)\n",
        "\n",
        "start_time = time.time()\n",
        "for epoch in range(100):\n",
        "    optimizer.zero_grad()\n",
        "    outputs = model(X_train)\n",
        "    loss = criterion(outputs, y_train)\n",
        "    loss.backward()\n",
        "    optimizer.step()\n",
        "training_time = time.time() - start_time\n",
        "\n",
        "torch.save(model.state_dict(), \"torch_model.pth\")\n",
        "joblib.dump(training_time, \"torch_time.joblib\")"
      ],
      "metadata": {
        "colab": {
          "base_uri": "https://localhost:8080/"
        },
        "id": "Ydyux0SVlPGO",
        "outputId": "3f71fe9f-f003-4922-e954-1bccc1bcda9e"
      },
      "execution_count": 3,
      "outputs": [
        {
          "output_type": "execute_result",
          "data": {
            "text/plain": [
              "['torch_time.joblib']"
            ]
          },
          "metadata": {},
          "execution_count": 3
        }
      ]
    },
    {
      "cell_type": "markdown",
      "source": [
        "Usando CPU, Pytorch ha tardado en realizar el entrenamiento **17 segundos**."
      ],
      "metadata": {
        "id": "TawLJbgXmmif"
      }
    },
    {
      "cell_type": "markdown",
      "source": [
        "## 4.3 **JAX**"
      ],
      "metadata": {
        "id": "XilNqZb7lPYP"
      }
    },
    {
      "cell_type": "code",
      "source": [
        "import jax\n",
        "import jax.numpy as jnp\n",
        "import optax\n",
        "import flax.linen as nn\n",
        "from flax.training import train_state\n",
        "import numpy as np\n",
        "import time\n",
        "\n",
        "class MLP(nn.Module):\n",
        "    @nn.compact\n",
        "    def __call__(self, x):\n",
        "        x = nn.Dense(64)(x)\n",
        "        x = nn.relu(x)\n",
        "        x = nn.Dense(1)(x)\n",
        "        return x\n",
        "\n",
        "def create_train_state(rng, input_shape, learning_rate):\n",
        "    model = MLP()\n",
        "    params = model.init(rng, jnp.ones(input_shape))['params']\n",
        "    tx = optax.adam(learning_rate)\n",
        "    return train_state.TrainState.create(\n",
        "        apply_fn=model.apply, params=params, tx=tx)\n",
        "\n",
        "@jax.jit\n",
        "def train_step(state, batch):\n",
        "    def loss_fn(params):\n",
        "        logits = state.apply_fn({'params': params}, batch['X'])\n",
        "        loss = optax.sigmoid_binary_cross_entropy(logits.squeeze(), batch['y']).mean()\n",
        "        return loss\n",
        "    grad_fn = jax.grad(loss_fn)\n",
        "    grads = grad_fn(state.params)\n",
        "    return state.apply_gradients(grads=grads)\n",
        "\n",
        "# Cargar datos\n",
        "data = np.load(\"train_test_data.npz\")\n",
        "X_train = jnp.array(data[\"X_train\"].astype(np.float32))\n",
        "y_train = jnp.array(data[\"y_train\"].astype(np.float32))\n",
        "\n",
        "# Entrenamiento\n",
        "rng = jax.random.PRNGKey(0)\n",
        "state = create_train_state(rng, (1, X_train.shape[1]), 0.001)\n",
        "batch = {'X': X_train, 'y': y_train}\n",
        "\n",
        "start_time = time.time()\n",
        "for _ in range(100):\n",
        "    state = train_step(state, batch)\n",
        "training_time = time.time() - start_time\n",
        "\n",
        "# Guardar modelo y tiempo\n",
        "joblib.dump(state.params, \"jax_params.joblib\")\n",
        "joblib.dump(training_time, \"jax_time.joblib\")"
      ],
      "metadata": {
        "colab": {
          "base_uri": "https://localhost:8080/"
        },
        "id": "4Kzh1mL0lQpi",
        "outputId": "9a3d6e38-a50d-47fc-8b5e-bc8fde2f081c"
      },
      "execution_count": 4,
      "outputs": [
        {
          "output_type": "execute_result",
          "data": {
            "text/plain": [
              "['jax_time.joblib']"
            ]
          },
          "metadata": {},
          "execution_count": 4
        }
      ]
    },
    {
      "cell_type": "markdown",
      "source": [
        "Usando CPU, JAX ha tardado en realizar el entrenamiento **7 segundos**."
      ],
      "metadata": {
        "id": "-n9yQGGUmzwF"
      }
    },
    {
      "cell_type": "code",
      "source": [
        "import matplotlib.pyplot as plt\n",
        "import seaborn as sns\n",
        "import pandas as pd\n",
        "\n",
        "# Configurar estilo\n",
        "sns.set_theme(style=\"whitegrid\", palette=\"pastel\")\n",
        "\n",
        "# Tiempos de entrenamiento (en segundos)\n",
        "training_times = {\n",
        "    \"TensorFlow\": 3 * 60 + 40,  # 3 minutos 40 segundos\n",
        "    \"PyTorch\": 17,              # 17 segundos\n",
        "    \"JAX\": 7                    # 7 segundos\n",
        "}\n",
        "\n",
        "# Crear gráfico de barras\n",
        "fig, ax = plt.subplots(figsize=(10, 6))\n",
        "\n",
        "times_df = pd.DataFrame({\n",
        "    \"Framework\": list(training_times.keys()),\n",
        "    \"Tiempo (s)\": list(training_times.values())\n",
        "})\n",
        "\n",
        "sns.barplot(x=\"Framework\", y=\"Tiempo (s)\", data=times_df, ax=ax)\n",
        "ax.set_title(\"Tiempo de Entrenamiento por Framework\")\n",
        "ax.set_ylabel(\"Segundos\")\n",
        "ax.set_xlabel(\"Framework\")\n",
        "\n",
        "# Añadir etiquetas a las barras\n",
        "for p in ax.patches:\n",
        "    ax.annotate(format(p.get_height(), '.2f'),\n",
        "                (p.get_x() + p.get_width() / 2., p.get_height()),\n",
        "                ha='center', va='center',\n",
        "                xytext=(0, 10),\n",
        "                textcoords='offset points')\n",
        "\n",
        "# Mostrar el gráfico\n",
        "plt.tight_layout()\n",
        "plt.show()"
      ],
      "metadata": {
        "colab": {
          "base_uri": "https://localhost:8080/",
          "height": 601
        },
        "id": "0AIuRDknpy17",
        "outputId": "cedcac44-3601-4665-9118-718b068ca921"
      },
      "execution_count": 5,
      "outputs": [
        {
          "output_type": "display_data",
          "data": {
            "text/plain": [
              "<Figure size 1000x600 with 1 Axes>"
            ],
            "image/png": "[encoded data removed]"
          },
          "metadata": {}
        }
      ]
    },
    {
      "cell_type": "markdown",
      "source": [
        "## 5. **Conclusiones**\n",
        "\n",
        "Jax ha sido el más rápido a la hora de entrenar, y Tensorflow, con diferencia, el más lento.\n",
        "\n",
        "Sin embargo, también ha sido el que menos líneas de código ha necesitado.\n",
        "\n",
        "**Nota:** calculado usando cpu de google colab, los resultados pueden variar según la cpu utilizada."
      ],
      "metadata": {
        "id": "PHn-gNNTzzsT"
      }
    }
  ]
}